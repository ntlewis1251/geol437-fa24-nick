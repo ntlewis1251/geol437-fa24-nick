{
 "cells": [
  {
   "cell_type": "markdown",
   "metadata": {},
   "source": [
    "# Python in Visual Studio Code (VS Code)\n",
    "\n",
    "written by Noah Rupert with edits by Joanmarie Del Vecchio, November 2024"
   ]
  },
  {
   "cell_type": "markdown",
   "metadata": {},
   "source": [
    "Now that you've downloaded VS Code (yippe!), here is a quick introduction on how to use it and a general guide on where things are.\n",
    "\n",
    "Topics covered in this introduction file:\n",
    "\n",
    "0. General rules for coding\n",
    "1. Do Python on servers \n",
    "2. How do I download things into VS Code? (Git clone?!)\n",
    "3. Where are my files?\n",
    "4. What is an environment?\n",
    "5. How can I add packages to my environment?\n",
    "6. What is cd? \n",
    "7. Other problems or FAQ"
   ]
  },
  {
   "cell_type": "markdown",
   "metadata": {},
   "source": [
    "# (0) General Rules for Coding !!!!!!!!\n",
    "\n",
    "Here are a few simply but VERY important rules you should follow:\n",
    "\n",
    "1) When naming files, AVOID using spaces or special characters (except for dashes or underscores)\n",
    "    - Sometimes, certain things won't run correctly if you use certain things (especially for GIS!!)\n",
    "\n",
    "\n",
    "2) When naming things inside of your code, use names that are intuitive (will make sense even if you haven't looked at it for a long time)\n",
    "\n",
    "\n",
    "3) Writing documentation (comments) as you work is super helpful!! It also allows you to share your code and have it make sense\n",
    "\n",
    "\n",
    "4) Keep all of your import lines and file paths at the top of your code\n",
    "    - import (package)  \n",
    "\n",
    "    - File_Path_Name = \"Put your path here\"  (Don't forget the \"\")\n",
    "\n",
    "\n",
    "5) If you are stuck and not sure why something isn't working, adding test lines is helpful\n",
    "    - Ex: print lines, determine where exactly something isn't going right\n",
    "\n",
    "\n",
    "6) If there is something that you will use repeatedly throughout your code, make a function to save space and avoid eyesores\n",
    "\n",
    "\n",
    "7) Avoid making really long lines (needing to scroll right or left)\n",
    "\n",
    "\n",
    "8) Don't forget to save your work!! (Go to File in the top left and then click Save)"
   ]
  },
  {
   "cell_type": "markdown",
   "metadata": {},
   "source": [
    "# (1) Do Python on servers"
   ]
  },
  {
   "cell_type": "markdown",
   "metadata": {},
   "source": [
    "We are going to run Python on William and Mary's [Linux cluster SciClone](https://www.wm.edu/offices/it/services/researchcomputing/using/0). \"SSH\" means \"Secure Shell\". In short, this is how your computer communicates with another computer (the HPC servers)."
   ]
  },
  {
   "cell_type": "markdown",
   "metadata": {},
   "source": [
    "## Use VS Code to access HPC"
   ]
  },
  {
   "cell_type": "markdown",
   "metadata": {},
   "source": [
    "(Detailed borrowed from [NCEAS’s Scalable and Reproducible Approaches to Arctic Research course](https://learning.nceas.ucsb.edu/2023-03-arctic/#setting-up), or view its [updated material](https://learning.nceas.ucsb.edu/2024-03-arctic/sections/python-intro.html). The only reason I don't use this word for word is that they don't use conda(!))\n",
    "\n",
    "1. First, [download VS Code](https://code.visualstudio.com/) if you do not already have it installed. You’ll also need to download the [Remote - SSH extension](https://marketplace.visualstudio.com/items?itemName=ms-vscode-remote.vscode-remote-extensionpack).\n",
    "2. To connect to the server using VS Code follow these steps, from the VS Code window, open the command pallette (Cmd + Shift + P).\n",
    "3. Enter “Remote SSH: Connect to Host”\n",
    "\n",
    "![Untitled](Untitled.png)\n",
    "\n",
    "1. select “Add New Host”\n",
    "2. enter the ssh command to connect to the host:\n",
    "\n",
    "`ssh [wm_username]@astral.sciclone.wm.edu`\n",
    "\n",
    "For example, you can do `ssh jdelvecchio01@astral.sciclone.wm.edu` if you’re me. You’ll only have to do this step once.\n",
    "\n",
    "1. Select the SSH config file to update with the name of the host. You should select the one in your user directory (eg: `/Users/[your_username]/.ssh/config`)\n",
    "2. Click “Connect” in the popup in the lower right hand corner\n",
    "    - Note: If the dialog box does not appear, reopen the command palette (Control+ Shift + P), type in “Remote-SSH: Connect to Host…”, choose e.g. astral.sciclone.wm.edu from the options of configured SSH hosts, then enter your password into the dialog box that appears\n",
    "3. Enter your password in the dialog box that pops up at the top of the screen. When you are connected, you will see in the lower left hand corner of the window a green bar that says “SSH: astral.sciclone.wm.edu.”\n",
    "\n",
    "![Untitled](Untitled%201.png)\n",
    "\n",
    "After connecting to the server, in the extensions pane (View > Extensions) search for, and install, (1) Python, (2) Jupyter, and (3) Jupyter Keymap (note that these extensions will be installed on the server, and not locally)\n",
    "\n",
    "If you ever have an issue finding your Python interpreter within your environment, you might have to add it manually:\n",
    "\n",
    "1. in VS Code bring up the palette by Ctrl+Shift+P\n",
    "2. Search “Python: Select Interpreter”\n",
    "3. Click “Enter interpreter path” and then “Find” to go to your directories\n",
    "4. From here navigate to .*conda* and then *envs*, where you will find a folder for the environment you want to use\n",
    "5. Within this environment directory go to *bin* and then scroll down until you find python.11 or whatever the latest version of Python that environment has. Select that. it should work now!"
   ]
  },
  {
   "cell_type": "markdown",
   "metadata": {},
   "source": [
    "## Set up a conda environment on the HPC"
   ]
  },
  {
   "cell_type": "markdown",
   "metadata": {},
   "source": [
    "1. Add the following two lines to your `.bashrc` file:\n",
    "\n",
    "\n",
    "`source \"/usr/local/anaconda3-2021.05/etc/profile.d/conda.csh\"`\n",
    "\n",
    "`module load anaconda3`\n",
    "\n",
    "2. Open a new terminal (Control + ` on Windows and then the “+” symbol on the terminal tray). Despite adding the line to the `bashrc` file (which means “run this script every time I log on to the terminal), It doesn’t seem to like `module load anaconda3` and I don’t know why. You have to do that in the terminal, I guess. So type `module load anaconda3.`  If no error message emerges, you’re good!\n",
    "\n",
    "3. Create a test conda environment (And write `y` any time you have to install):\n",
    "\n",
    "`conda create -n test python=3.12`\n",
    "\n",
    "4. Activate that test environment with `conda activate test`. `(test)` should now appear in front of the name of the computer you’re on."
   ]
  },
  {
   "cell_type": "markdown",
   "metadata": {},
   "source": [
    "# (2) How do I download things into VS Code? (Git clone)\n",
    "\n"
   ]
  },
  {
   "cell_type": "markdown",
   "metadata": {},
   "source": [
    "\n",
    "To download something into VS Code, there are a few different methods depending on what you're trying to download."
   ]
  },
  {
   "cell_type": "markdown",
   "metadata": {},
   "source": [
    "## Downloading a fork from GitHub"
   ]
  },
  {
   "cell_type": "markdown",
   "metadata": {},
   "source": [
    "If you are trying to make a copy of a fork in GitHub, here is an easy process to download it into VS Code:\n",
    "\n",
    "\n",
    "Step 1: Make the fork in GitHub\n",
    "\n",
    "See Google Doc below for screenshots walking you through this\n",
    "https://docs.google.com/document/d/1-tb40sYJ-wuQnjJFUZZJ88T1FzVql6lETbOICoUfUj0/edit?usp=sharing\n",
    "\n",
    "After making your personal fork, copy the link\n",
    "    \n",
    "Once you have your link, continue to Step 2\n",
    "\n",
    "Step 2: In the VS Code terminal, use git clone (link here) to make the copy"
   ]
  },
  {
   "cell_type": "markdown",
   "metadata": {},
   "source": [
    "In your terminal, make sure you have already run the following line:\n",
    "\n",
    "`module load anaconda3`\n",
    "\n",
    "Afterwards, run the following line:\n",
    "\n",
    "`git clone (your personal link here)`\n",
    "Example: https://github.com/ncrupert/pycogss-intro-to-python.git\n",
    "\n",
    "This will automatically make a copy of your fork and save it under the \"Explorer\" tab in the top left.\n",
    "\n",
    " This Explorer tab will be how you access all of your files"
   ]
  },
  {
   "cell_type": "markdown",
   "metadata": {},
   "source": [
    "## Downloading an excel sheet AND how to pull specific data out of it (This is from the pandas_matplotlib.ipynb file)"
   ]
  },
  {
   "cell_type": "markdown",
   "metadata": {},
   "source": [
    "Downloading / Moving the Excel sheet into VS Code\n",
    "\n",
    "If you already have an excel sheet, the easiest way to download it will be to \"drag and drop\" it from wherever your personal files are stored.\n",
    "\n",
    "\n",
    "For Windows: \n",
    "\n",
    "Open File Explorer, locate your file, and then either right click \"Copy\" and then \"Paste\" it into whatever folder\n",
    "    OR\n",
    "After locating your file, hold left click and \"drag and drop\" it into whatever folder you would like to store it in\n",
    "\n",
    "\n",
    "For Mac\n",
    "\n",
    "In Finder, follow the same steps as in the Windows instructions above"
   ]
  },
  {
   "cell_type": "markdown",
   "metadata": {},
   "source": [
    "# Now do Python!"
   ]
  },
  {
   "cell_type": "code",
   "execution_count": 1,
   "metadata": {},
   "outputs": [],
   "source": [
    "import pandas as pd\n",
    "import numpy as np\n",
    "from matplotlib import pyplot as plt\n",
    "\n",
    "# If this doesn't work right away, you likely do not have an environment or kernel activated with these packages enabled"
   ]
  },
  {
   "cell_type": "code",
   "execution_count": 2,
   "metadata": {},
   "outputs": [
    {
     "data": {
      "text/html": [
       "<div>\n",
       "<style scoped>\n",
       "    .dataframe tbody tr th:only-of-type {\n",
       "        vertical-align: middle;\n",
       "    }\n",
       "\n",
       "    .dataframe tbody tr th {\n",
       "        vertical-align: top;\n",
       "    }\n",
       "\n",
       "    .dataframe thead th {\n",
       "        text-align: right;\n",
       "    }\n",
       "</style>\n",
       "<table border=\"1\" class=\"dataframe\">\n",
       "  <thead>\n",
       "    <tr style=\"text-align: right;\">\n",
       "      <th></th>\n",
       "      <th>STATION</th>\n",
       "      <th>NAME</th>\n",
       "      <th>DATE</th>\n",
       "      <th>PRCP</th>\n",
       "      <th>TMAX</th>\n",
       "      <th>TMIN</th>\n",
       "      <th>TOBS</th>\n",
       "    </tr>\n",
       "  </thead>\n",
       "  <tbody>\n",
       "    <tr>\n",
       "      <th>0</th>\n",
       "      <td>USC00449151</td>\n",
       "      <td>WILLIAMSBURG 2 N, VA US</td>\n",
       "      <td>1/1/2022</td>\n",
       "      <td>0.03</td>\n",
       "      <td>73</td>\n",
       "      <td>57</td>\n",
       "      <td>69</td>\n",
       "    </tr>\n",
       "    <tr>\n",
       "      <th>1</th>\n",
       "      <td>USC00449151</td>\n",
       "      <td>WILLIAMSBURG 2 N, VA US</td>\n",
       "      <td>1/2/2022</td>\n",
       "      <td>0.74</td>\n",
       "      <td>70</td>\n",
       "      <td>52</td>\n",
       "      <td>52</td>\n",
       "    </tr>\n",
       "    <tr>\n",
       "      <th>2</th>\n",
       "      <td>USC00449151</td>\n",
       "      <td>WILLIAMSBURG 2 N, VA US</td>\n",
       "      <td>1/3/2022</td>\n",
       "      <td>1.86</td>\n",
       "      <td>52</td>\n",
       "      <td>27</td>\n",
       "      <td>27</td>\n",
       "    </tr>\n",
       "    <tr>\n",
       "      <th>3</th>\n",
       "      <td>USC00449151</td>\n",
       "      <td>WILLIAMSBURG 2 N, VA US</td>\n",
       "      <td>1/4/2022</td>\n",
       "      <td>0.00</td>\n",
       "      <td>38</td>\n",
       "      <td>24</td>\n",
       "      <td>30</td>\n",
       "    </tr>\n",
       "    <tr>\n",
       "      <th>4</th>\n",
       "      <td>USC00449151</td>\n",
       "      <td>WILLIAMSBURG 2 N, VA US</td>\n",
       "      <td>1/5/2022</td>\n",
       "      <td>0.01</td>\n",
       "      <td>49</td>\n",
       "      <td>30</td>\n",
       "      <td>47</td>\n",
       "    </tr>\n",
       "  </tbody>\n",
       "</table>\n",
       "</div>"
      ],
      "text/plain": [
       "       STATION                     NAME      DATE  PRCP  TMAX  TMIN  TOBS\n",
       "0  USC00449151  WILLIAMSBURG 2 N, VA US  1/1/2022  0.03    73    57    69\n",
       "1  USC00449151  WILLIAMSBURG 2 N, VA US  1/2/2022  0.74    70    52    52\n",
       "2  USC00449151  WILLIAMSBURG 2 N, VA US  1/3/2022  1.86    52    27    27\n",
       "3  USC00449151  WILLIAMSBURG 2 N, VA US  1/4/2022  0.00    38    24    30\n",
       "4  USC00449151  WILLIAMSBURG 2 N, VA US  1/5/2022  0.01    49    30    47"
      ]
     },
     "execution_count": 2,
     "metadata": {},
     "output_type": "execute_result"
    }
   ],
   "source": [
    "weather_data = pd.read_csv('williamsburg_meteo.csv')\n",
    "\n",
    "# You can get the names of each column using \".head()\"\n",
    "\n",
    "weather_data.head()"
   ]
  },
  {
   "cell_type": "code",
   "execution_count": 6,
   "metadata": {},
   "outputs": [
    {
     "data": {
      "image/png": "[encoded data removed]",
      "text/plain": [
       "<Figure size 1200x600 with 2 Axes>"
      ]
     },
     "metadata": {},
     "output_type": "display_data"
    }
   ],
   "source": [
    "# If you have a specific column you need data for, you can use: \n",
    "\n",
    "#weather_data['DATE']     Don't forget the '' or you will get an error!\n",
    "\n",
    "# Now you have a specific column full of data!\n",
    "x=np.arange(0,len(weather_data),1)\n",
    "fig, ax =plt.subplots(figsize=(12,6))\n",
    "scatter=ax.scatter(x, weather_data['PRCP'], c=weather_data['TMAX'],cmap='spring')\n",
    "ax.set_ylabel('Percip')\n",
    "ax.set_xlabel('Site')\n",
    "ax.set_title('Test')\n",
    "plt.colorbar(scatter, ax=ax, label='Max Temp')\n",
    "plt.show()"
   ]
  },
  {
   "cell_type": "markdown",
   "metadata": {},
   "source": [
    "# (3) Where are my files?\n",
    "\n",
    "You can access your files under the \"Explorer\" tab\n",
    "\n",
    "- Click on the two overlapping papers in the top left, just below the VS Code logo\n",
    "\n",
    "Now you can scroll down until you find your files. You should save your files under user_personal"
   ]
  },
  {
   "cell_type": "markdown",
   "metadata": {},
   "source": [
    "# (4) What is an environment?"
   ]
  },
  {
   "cell_type": "markdown",
   "metadata": {},
   "source": [
    "A Python environment includes the Python interpreter and any libraries or tools you need for your code. \n",
    "\n",
    "By using environments, you can create isolated spaces for each project, so different projects can use different versions of libraries without interfering with each other (or cause long loading times)"
   ]
  },
  {
   "cell_type": "markdown",
   "metadata": {},
   "source": [
    "# (5) How can I add packages to my environment?"
   ]
  },
  {
   "cell_type": "markdown",
   "metadata": {},
   "source": [
    "Step 1: Make sure your conda environment is activated. \n",
    "- Run the following in your terminal: `conda activate your_env_name_here`\n",
    "\n",
    "Step 2: use `conda` to install a package. You can find the package on conda forge to find the exact syntax. For example:\n",
    "`conda install conda-forge::rasterio`\n",
    "\n",
    "Sometimes you will need to use pip install to add the package into your environment         \n",
    "- `pip install Package_Name`\n",
    "\n",
    "Sometimes you will get a prompt asking either before or after the \"Solving Environment []\" part. Just hit \"y\" and enter for yes."
   ]
  },
  {
   "cell_type": "markdown",
   "metadata": {},
   "source": [
    "# (6) What is cd? Why is it important?"
   ]
  },
  {
   "cell_type": "markdown",
   "metadata": {},
   "source": [
    "\"`cd`\" stands for change (working) directory. Basically, this is where your computer is looking for certain files. This is most often used when you are trying to run something from your terminal.\n",
    "\n",
    "You can set your working directory in your terminal with \"cd Directory_Name\".\n",
    "You can reset your working directory in your terminal with \"cd\".\n",
    "\n",
    "A common problem is that a file you are trying to run cannot be found, but it very much exists. You probably either forgot to set your working directory, or you are trying to run something outside of your current one. "
   ]
  },
  {
   "cell_type": "markdown",
   "metadata": {},
   "source": [
    "# (7) Common problems or FAQ"
   ]
  },
  {
   "cell_type": "markdown",
   "metadata": {},
   "source": [
    "- Don't forget to run \"module load anaconda3\" in your terminal at the start of your session\n",
    "- For new files, make sure you are using the right Python Interpreter\n",
    "- Pathing issues are quite common. The easiest way to avoid them is to:\n",
    "    - (In Explorer) right click the file you want the path of --> click copy path --> paste with Ctrl + V in your file"
   ]
  }
 ],
 "metadata": {
  "kernelspec": {
   "display_name": "Python 3",
   "language": "python",
   "name": "python3"
  },
  "language_info": {
   "codemirror_mode": {
    "name": "ipython",
    "version": 3
   },
   "file_extension": ".py",
   "mimetype": "text/x-python",
   "name": "python",
   "nbconvert_exporter": "python",
   "pygments_lexer": "ipython3",
   "version": "3.12.7"
  }
 },
 "nbformat": 4,
 "nbformat_minor": 2
}
